{
 "cells": [
  {
   "cell_type": "markdown",
   "metadata": {},
   "source": [
    "# Demonstration analysis\n",
    "This Jupyter notebook demonstrates the functionality of `phase.py` in an example phase retrieval routine. The data used here is a sample of real measurements."
   ]
  },
  {
   "cell_type": "code",
   "execution_count": null,
   "metadata": {},
   "outputs": [],
   "source": [
    "%pylab inline\n",
    "from mpl_toolkits.axes_grid1 import ImageGrid\n",
    "import scipy.optimize as op\n",
    "from phase import *\n",
    "\n",
    "def imshow_grid(imgs, frac=1., clims=None):\n",
    "    \"\"\"A wrapper to conveniently display zoomed images in a grid.\"\"\"\n",
    "    n = len(imgs)\n",
    "    fig = figure(figsize=(4*n, 3))\n",
    "    img_grid = ImageGrid(fig, 111, nrows_ncols=(1, n), axes_pad=.75, cbar_mode='each', cbar_pad='5%')\n",
    "    for i, (ax, cbar, img) in enumerate(zip(img_grid, img_grid.cbar_axes, imgs)):\n",
    "        N = img.shape[0] / 2.\n",
    "        M = img.shape[1] / 2.\n",
    "        im = ax.imshow(img, extent=(-M, M, N, -N), interpolation='nearest')\n",
    "        ax.set_xlim(-frac*M, frac*M)\n",
    "        ax.set_ylim(-frac*N, frac*N)\n",
    "        if (clims is not None) and (clims[i] is not None):\n",
    "            im.set_clim(clims[i])\n",
    "        cbar.colorbar(im)"
   ]
  },
  {
   "cell_type": "markdown",
   "metadata": {},
   "source": [
    "## Estimating the focal plane position\n",
    "Defocused pinhole images are loaded from a sample data file. The function `analyze_peaks` provides normalized peak intensities, which are then used to fit a $\\mathrm{sinc}^2$ function and estimate the focal plane location. Images in the file `focus.tif` were taken with a 1 mm spacing."
   ]
  },
  {
   "cell_type": "code",
   "execution_count": null,
   "metadata": {
    "scrolled": false
   },
   "outputs": [],
   "source": [
    "stack = tifffile.imread('demo_data.tif')\n",
    "Z = arange(len(stack))   # 1 mm spacing\n",
    "p, v = analyze_peaks(stack, 32, 16, index=Z)"
   ]
  },
  {
   "cell_type": "code",
   "execution_count": null,
   "metadata": {
    "collapsed": true
   },
   "outputs": [],
   "source": [
    "def sinc2(x, A, a, x0, B):\n",
    "    \"\"\"sinc^2 function for fitting to through-focus intensities.\"\"\"\n",
    "    return A * sinc(a * (x - x0)) ** 2 + B"
   ]
  },
  {
   "cell_type": "code",
   "execution_count": null,
   "metadata": {},
   "outputs": [],
   "source": [
    "pfit, cfit = op.curve_fit(sinc2, Z, p['norm amp'].astype(float64), p0=(2e-2, .5e-3, (Z[0] + Z[-1]) / 2., 0.))\n",
    "plt.plot(Z - pfit[2], p['norm amp'], '.')\n",
    "plt.plot(Z - pfit[2], sinc2(Z, *pfit), '-')\n",
    "for pname, pval, sval in zip(('A', 'a', 'x0', 'B'), pfit, np.sqrt(np.diag(cfit))):\n",
    "    print(pname, '=', pval, '+/-', sval)"
   ]
  },
  {
   "cell_type": "markdown",
   "metadata": {},
   "source": [
    "## Preparing images\n",
    "Images are cropped to the specified size, each frame is centered at the maximum. Then, backgrounds are subtracted and images are normalized. A square root of each of them is taken to get complex amplitudes."
   ]
  },
  {
   "cell_type": "code",
   "execution_count": null,
   "metadata": {
    "collapsed": true
   },
   "outputs": [],
   "source": [
    "### Some physical quantities and settings are defined here.\n",
    "dx = 6.8         # Pixel size [um]\n",
    "z0 = 473000./dx  # Distance to the exit pupil [px]\n",
    "wl = .766/dx     # Wavelength [px]\n",
    "N = 256          # Image width [px]\n",
    "n = 4            # Number of images to be used in a single optimization\n",
    "# Preparing FFTs.\n",
    "#tr = Transforms(N)  \n",
    "#tr = Transforms_FFTW(N)  \n",
    "tr = Transforms_CUDA(N)  "
   ]
  },
  {
   "cell_type": "code",
   "execution_count": null,
   "metadata": {
    "collapsed": true
   },
   "outputs": [],
   "source": [
    "# Transforming distances to values in pixels \n",
    "# relative to the focal plane position.\n",
    "Z = (Z - pfit[2]) * 1e+3 / dx     \n",
    "F = zeros((len(stack), N, N), dtype=float64)\n",
    "for i, page in enumerate(stack):\n",
    "    img = crop(page, p.loc[i,'x0'], p.loc[i,'y0'], s=N).astype(complex128)\n",
    "    img = sqrt((img - p.loc[i,'bg']) / p.loc[i,'tot power'])\n",
    "    # Conserving the zero-mean noise to avoid bias. \n",
    "    # Negative values in amplitudes are allowed.\n",
    "    F[i] = img.real - img.imag"
   ]
  },
  {
   "cell_type": "markdown",
   "metadata": {},
   "source": [
    "Picking 4 images for optimization, including the master plane determined by index `j`."
   ]
  },
  {
   "cell_type": "code",
   "execution_count": null,
   "metadata": {},
   "outputs": [],
   "source": [
    "idx = array([0, 6, 11, 16])\n",
    "imshow_grid(F[idx], frac=.25)"
   ]
  },
  {
   "cell_type": "markdown",
   "metadata": {},
   "source": [
    "## Phase retrieval\n",
    "Phase in the master plane is estimated via non-linear optimization. The optimization routine starts with random uniform phase. The L-BFGS method is used to minimize the error metric."
   ]
  },
  {
   "cell_type": "code",
   "execution_count": null,
   "metadata": {
    "collapsed": true
   },
   "outputs": [],
   "source": [
    "zj = Z[idx[0]]\n",
    "zk = Z[idx[1:]]\n",
    "Fj = F[idx[0]]\n",
    "Fk = F[idx[1:]]\n",
    "#errf = Errf(zj, zk, Fj, Fk, wl)\n",
    "#errf = Errf_FFTW(zj, zk, Fj, Fk, wl)\n",
    "errf = Errf_CUDA(zj, zk, Fj, Fk, wl)"
   ]
  },
  {
   "cell_type": "code",
   "execution_count": null,
   "metadata": {},
   "outputs": [],
   "source": [
    "ph0 = 2. * pi * (rand(N**2) - .5)\n",
    "niter = [0]\n",
    "nout = 50\n",
    "def print_info(ph):\n",
    "    if not niter[0]%nout:\n",
    "        E, dE = errf(ph)\n",
    "        print('%4d\\t%10.4e  %10.4e' % (niter[0], E, abs(dE).max()))\n",
    "    niter[0] += 1\n",
    "              \n",
    "opt_ph = op.minimize(errf, x0=ph0, method='L-BFGS-B', jac=True, options={'maxiter':500}, callback=print_info)"
   ]
  },
  {
   "cell_type": "markdown",
   "metadata": {},
   "source": [
    "Phase in the master plane is obtained directly from the optimization algorithm."
   ]
  },
  {
   "cell_type": "code",
   "execution_count": null,
   "metadata": {},
   "outputs": [],
   "source": [
    "ph = opt_ph.x.reshape((N,N))\n",
    "ph_jac = opt_ph.jac.reshape((N,N))\n",
    "# This wraps the phase, making it easier to display on a graph.\n",
    "P = np.exp(1.j*ph)  \n",
    "imshow_grid((Fj, angle(P)/2./pi, ph_jac), frac=.25)"
   ]
  },
  {
   "cell_type": "markdown",
   "metadata": {},
   "source": [
    "**Left:** master plane amplitude. **Center:** reconstructed phase in wavelengths. **Right:** gradient after the last iteration."
   ]
  },
  {
   "cell_type": "markdown",
   "metadata": {},
   "source": [
    "ASP to the focal plane and backward Fraunhofer diffraction to the exit pupil yield the exit pupil field, whose complex phase corresponds to the wavefront aberration."
   ]
  },
  {
   "cell_type": "code",
   "execution_count": null,
   "metadata": {},
   "outputs": [],
   "source": [
    "G0 = tr.fraun(tr.asp(Fj * P, -zj, wl), -z0, wl)\n",
    "# This roughly subtracts the piston, better for displaying.\n",
    "G0 *= exp(-1.j * angle(sum(G0)))\n",
    "imshow_grid((abs(G0), angle(G0) / 2. / pi), frac=.25, clims=(None, (-.1,.15)))"
   ]
  },
  {
   "cell_type": "markdown",
   "metadata": {},
   "source": [
    "**Left:** pupil field amplitude. **Right:** phase in wavelengths, i.e. the wavefront error."
   ]
  },
  {
   "cell_type": "markdown",
   "metadata": {},
   "source": [
    "## Pupil radius and location"
   ]
  },
  {
   "cell_type": "markdown",
   "metadata": {},
   "source": [
    "A top-hat function representing the circular opening of the exit pupil is fitted. This allows to extract the pupil radius and a spatial shift due to phase tilts in the focal plane."
   ]
  },
  {
   "cell_type": "code",
   "execution_count": null,
   "metadata": {
    "collapsed": true
   },
   "outputs": [],
   "source": [
    "def fit_circ(par, img):\n",
    "    A, B, dx, dy, a = par\n",
    "    circ = circle(N/2+dx, N/2+dy, a, N)*A + B\n",
    "    return (circ - img).ravel()"
   ]
  },
  {
   "cell_type": "code",
   "execution_count": null,
   "metadata": {},
   "outputs": [],
   "source": [
    "opt_circ = op.leastsq(fit_circ, (abs(G0).max(), 0., 0., 0., 30), args=(abs(G0),), full_output=True)\n",
    "res_circ = opt_circ[2]['fvec'].reshape((N,N))  # residuals\n",
    "imshow_grid((abs(G0), abs(G0)+res_circ, res_circ), frac=.25)\n",
    "for pname, p in zip(('A', 'B', 'dx', 'dy', 'a'), opt_circ[0]):\n",
    "    print(pname, '=', p)\n",
    "a = opt_circ[0][-1]"
   ]
  },
  {
   "cell_type": "markdown",
   "metadata": {},
   "source": [
    "**Left:** exit pupil amplitude. **Center:** the fitted top-hat. **Right:** fit residuals."
   ]
  },
  {
   "cell_type": "markdown",
   "metadata": {},
   "source": [
    "The fitted pupil location is used to correct phase tilts in the focal plane. Reconstruction is then repeated, resulting in the pupil being centered. This may not be necessary in this case, but in two-image reconstructions pupil shifts may be significantly larger."
   ]
  },
  {
   "cell_type": "code",
   "execution_count": null,
   "metadata": {},
   "outputs": [],
   "source": [
    "# This is a Fourier shift.\n",
    "S = ifftshift(exp(2.j * pi * (tr.x*opt_circ[0][2] + tr.y*opt_circ[0][3]) / N))\n",
    "G0 = tr.fraun(tr.asp(Fj * P, -zj, wl) * S, -z0, wl)\n",
    "G0 *= np.exp(-1.j * angle(sum(G0)))\n",
    "imshow_grid((abs(G0), angle(G0) / 2. / pi), frac=.25, clims=(None, (-.1,.15)))"
   ]
  },
  {
   "cell_type": "markdown",
   "metadata": {},
   "source": [
    "## Extracting Zernike polynomial expansion coefficients\n",
    "The RMS wavefront error is calculated from the coefficients:  \n",
    "$W_\\mathrm{RMS} = \\sqrt{\\sum_{j=4}^{j_\\mathrm{max}} c_j^2}$,  \n",
    "starting from $c_4$, since piston and tilts do not represent true aberrations.  \n",
    "\n",
    "This allows to approximate the Strehl ratio: $S\\approx e^{-(2\\pi W_\\mathrm{RMS})^2}$.  \n",
    "The object space Airy disk radius in um is calculated from the fitted pupil aperture radius and known magnification."
   ]
  },
  {
   "cell_type": "code",
   "execution_count": null,
   "metadata": {},
   "outputs": [],
   "source": [
    "jmax = 79\n",
    "zern = Zernike(jmax, a, N)\n",
    "W0 = angle(G0) / 2. / pi  # the original wavefront\n",
    "C = zern.fit(angle(G0) / 2. / pi, jmax)\n",
    "# Setting to zero outside the pupil, ignoring piston and tilts.\n",
    "W = zern(np.concatenate(((0,0,0), C[3:]))) * zern.R  \n",
    "G0 *= exp(-2.j * pi * zern(C[:3])) # Removing piston and tilts.\n",
    "W0 = angle(G0)/ 2. / pi * zern.R\n",
    "\n",
    "# Wavefronts set to zero outside the pupil\n",
    "imshow_grid((W0, W, W - W0), frac=.25, clims=((W0.min(),W0.max()),(W0.min(),W0.max()),None)) \n",
    "figure(figsize=(15,3))\n",
    "bar(arange(3, jmax) + .5, C[3:])\n",
    "xlim(3.5, jmax + .5)\n",
    "minorticks_on()\n",
    "\n",
    "Wrms = sqrt(np.sum(C[3:] **2 ))\n",
    "Strehl = exp(-(2. * pi * Wrms)**2)\n",
    "r0 = .61 * N / a * dx / 56.20\n",
    "print('Wrms =', Wrms)\n",
    "print('S =', Strehl)\n",
    "print('r0 =', r0)"
   ]
  },
  {
   "cell_type": "markdown",
   "metadata": {},
   "source": [
    "**Left:** the original wavefront with piston and tilts removed. **Center:** Zernike fit. **Right:** fit residuals. Phase in wavelengths, set to zero outside the pupil.  \n",
    "**Bottom:** expansion coefficients."
   ]
  },
  {
   "cell_type": "code",
   "execution_count": null,
   "metadata": {
    "collapsed": true
   },
   "outputs": [],
   "source": []
  }
 ],
 "metadata": {
  "kernelspec": {
   "display_name": "Python 3",
   "language": "python",
   "name": "python3"
  },
  "language_info": {
   "codemirror_mode": {
    "name": "ipython",
    "version": 3
   },
   "file_extension": ".py",
   "mimetype": "text/x-python",
   "name": "python",
   "nbconvert_exporter": "python",
   "pygments_lexer": "ipython3",
   "version": "3.6.1"
  }
 },
 "nbformat": 4,
 "nbformat_minor": 1
}
